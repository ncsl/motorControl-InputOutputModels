{
 "cells": [
  {
   "cell_type": "code",
   "execution_count": 1,
   "metadata": {
    "collapsed": false
   },
   "outputs": [
    {
     "name": "stderr",
     "output_type": "stream",
     "text": [
      "/usr/local/lib/python2.7/site-packages/matplotlib/font_manager.py:273: UserWarning: Matplotlib is building the font cache using fc-list. This may take a moment.\n",
      "  warnings.warn('Matplotlib is building the font cache using fc-list. This may take a moment.')\n"
     ]
    }
   ],
   "source": [
    "import pandas as pd\n",
    "import numpy as np\n",
    "import json\n",
    "import os\n",
    "from IPython.display import display\n",
    "\n",
    "import scipy, scipy.io\n",
    "\n",
    "import matplotlib\n",
    "from matplotlib import *\n",
    "from matplotlib import pyplot as plt\n",
    "import itertools\n",
    "from mpl_toolkits.axes_grid1 import make_axes_locatable\n",
    "# pretty charting\n",
    "import seaborn as sns\n",
    "sns.set_palette('muted')\n",
    "sns.set_style('darkgrid')\n",
    "from natsort import natsorted, ns\n",
    "\n",
    "%matplotlib inline\n",
    "\n",
    "## sklearn imports\n",
    "import sklearn.linear_model\n",
    "import sklearn.cross_validation\n",
    "import sklearn.tree\n",
    "import sklearn.ensemble\n",
    "import sklearn.preprocessing\n",
    "import sklearn.feature_selection\n",
    "import sklearn.pipeline\n",
    "import sklearn.grid_search"
   ]
  },
  {
   "cell_type": "code",
   "execution_count": 2,
   "metadata": {
    "collapsed": true
   },
   "outputs": [],
   "source": [
    "def loadmat(filename):\n",
    "    '''\n",
    "    this function should be called instead of direct spio.loadmat\n",
    "    as it cures the problem of not properly recovering python dictionaries\n",
    "    from mat files. It calls the function check keys to cure all entries\n",
    "    which are still mat-objects\n",
    "    '''\n",
    "    data = scipy.io.loadmat(filename, struct_as_record=False, squeeze_me=True)\n",
    "    return _check_keys(data)\n",
    "\n",
    "def _check_keys(dict):\n",
    "    '''\n",
    "    checks if entries in dictionary are mat-objects. If yes\n",
    "    todict is called to change them to nested dictionaries\n",
    "    '''\n",
    "    for key in dict:\n",
    "        if isinstance(dict[key], scipy.io.matlab.mio5_params.mat_struct):\n",
    "            dict[key] = _todict(dict[key])\n",
    "    return dict        \n",
    "\n",
    "def _todict(matobj):\n",
    "    '''\n",
    "    A recursive function which constructs from matobjects nested dictionaries\n",
    "    '''\n",
    "    dict = {}\n",
    "    for strg in matobj._fieldnames:\n",
    "        elem = matobj.__dict__[strg]\n",
    "        if isinstance(elem, scipy.io.matlab.mio5_params.mat_struct):\n",
    "            dict[strg] = _todict(elem)\n",
    "        elif isinstance(elem,np.ndarray):\n",
    "            dict[strg] = _tolist(elem)\n",
    "        else:\n",
    "            dict[strg] = elem\n",
    "    return dict\n",
    "\n",
    "def _tolist(ndarray):\n",
    "    '''\n",
    "    A recursive function which constructs lists from cellarrays \n",
    "    (which are loaded as numpy ndarrays), recursing into the elements\n",
    "    if they contain matobjects.\n",
    "    '''\n",
    "    elem_list = []            \n",
    "    for sub_elem in ndarray:\n",
    "        if isinstance(sub_elem, scipy.io.matlab.mio5_params.mat_struct):\n",
    "            elem_list.append(_todict(sub_elem))\n",
    "        elif isinstance(sub_elem,np.ndarray):\n",
    "            elem_list.append(_tolist(sub_elem))\n",
    "        else:\n",
    "            elem_list.append(sub_elem)\n",
    "    return elem_list"
   ]
  },
  {
   "cell_type": "code",
   "execution_count": 7,
   "metadata": {
    "collapsed": false
   },
   "outputs": [],
   "source": [
    "dataFile = '../Monkey X/clusters/pearsonRSpectralClustered_allconditions'\n",
    "data = loadmat(dataFile)\n"
   ]
  },
  {
   "cell_type": "markdown",
   "metadata": {},
   "source": [
    "### Visualize Push"
   ]
  },
  {
   "cell_type": "code",
   "execution_count": 30,
   "metadata": {
    "collapsed": false
   },
   "outputs": [
    {
     "name": "stdout",
     "output_type": "stream",
     "text": [
      "['trialnum', 'close_time', 'instruction_time', 'neuronsInCluster']\n",
      "[u'sig001b.mat', u'sig001c.mat', u'sig003b.mat', u'sig003c.mat', u'sig004a.mat', u'sig004b.mat', u'sig005a.mat', u'sig005b.mat', u'sig005c.mat', u'sig007a.mat', u'sig007b.mat', u'sig007c.mat', u'sig007d.mat', u'sig008c.mat', u'sig009a.mat', u'sig009b.mat', u'sig012b.mat', u'sig014a.mat', u'sig014d.mat', u'sig015a.mat', u'sig015b.mat', u'sig020a.mat', u'sig021a.mat', u'sig027a.mat', u'sig028a.mat', u'sig033a.mat', u'sig033c.mat', u'sig033d.mat', u'sig034c.mat', u'sig034d.mat', u'sig035b.mat', u'sig036d.mat', u'sig037a.mat', u'sig037b.mat', u'sig038b.mat', u'sig038c.mat', u'sig038d.mat', u'sig039b.mat', u'sig040a.mat', u'sig040b.mat', u'sig041b.mat', u'sig041c.mat', u'sig041d.mat', u'sig042b.mat', u'sig043a.mat', u'sig043b.mat', u'sig046c.mat', u'sig047b.mat', u'sig047d.mat', u'sig052a.mat', u'sig054a.mat', u'sig056a.mat', u'sig058a.mat', u'sig060a.mat', u'sig060c.mat', u'sig070b.mat', u'sig071b.mat', u'sig071c.mat', u'sig074a.mat', u'sig074b.mat', u'sig078b.mat', u'sig081b.mat', u'sig081c.mat', u'sig083a.mat', u'sig089a.mat', u'sig090a.mat', u'sig091a.mat', u'sig092b.mat', u'sig094b.mat', u'sig094c.mat', u'sig095a.mat', u'sig096a.mat', u'sig096b.mat', u'sig096c.mat', u'sig097a.mat', u'sig098a.mat', u'sig099a.mat', u'sig099b.mat', u'sig102a.mat', u'sig104b.mat', u'sig105b.mat', u'sig105c.mat', u'sig106a.mat', u'sig107a.mat', u'sig110a.mat', u'sig111a.mat', u'sig111b.mat', u'sig111c.mat', u'sig112a.mat', u'sig113a.mat', u'sig113b.mat', u'sig115a.mat', u'sig115b.mat', u'sig116a.mat', u'sig117a.mat', u'sig117b.mat', u'sig118a.mat', u'sig118b.mat', u'sig120a.mat', u'sig120b.mat', u'sig120c.mat', u'sig121a.mat', u'sig121b.mat', u'sig123a.mat', u'sig123b.mat', u'sig123c.mat', u'sig124a.mat', u'sig124b.mat']\n",
      "35000\n",
      "35000\n",
      "[u'sig001b.mat', u'sig001c.mat', u'sig003b.mat', u'sig003c.mat', u'sig004a.mat', u'sig004b.mat', u'sig005a.mat', u'sig005b.mat', u'sig005c.mat', u'sig007a.mat', u'sig007b.mat', u'sig007c.mat', u'sig007d.mat', u'sig008c.mat', u'sig009a.mat', u'sig009b.mat', u'sig012b.mat', u'sig014a.mat', u'sig014d.mat', u'sig015a.mat', u'sig015b.mat', u'sig020a.mat', u'sig021a.mat', u'sig027a.mat', u'sig028a.mat', u'sig033a.mat', u'sig033c.mat', u'sig033d.mat', u'sig034c.mat', u'sig034d.mat', u'sig035b.mat', u'sig036d.mat', u'sig037a.mat', u'sig037b.mat', u'sig038b.mat', u'sig038c.mat', u'sig038d.mat', u'sig039b.mat', u'sig040a.mat', u'sig040b.mat', u'sig041b.mat', u'sig041c.mat', u'sig041d.mat', u'sig042b.mat', u'sig043a.mat', u'sig043b.mat', u'sig046c.mat', u'sig047b.mat', u'sig047d.mat', u'sig052a.mat', u'sig054a.mat', u'sig056a.mat', u'sig058a.mat', u'sig060a.mat', u'sig060c.mat', u'sig070b.mat', u'sig071b.mat', u'sig071c.mat', u'sig074a.mat', u'sig074b.mat', u'sig078b.mat', u'sig081b.mat', u'sig081c.mat', u'sig083a.mat', u'sig089a.mat', u'sig090a.mat', u'sig091a.mat', u'sig092b.mat', u'sig094b.mat', u'sig094c.mat', u'sig095a.mat', u'sig096a.mat', u'sig096b.mat', u'sig096c.mat', u'sig097a.mat', u'sig098a.mat', u'sig099a.mat', u'sig099b.mat', u'sig102a.mat', u'sig104b.mat', u'sig105b.mat', u'sig105c.mat', u'sig106a.mat', u'sig107a.mat', u'sig110a.mat', u'sig111a.mat', u'sig111b.mat', u'sig111c.mat', u'sig112a.mat', u'sig113a.mat', u'sig113b.mat', u'sig115a.mat', u'sig115b.mat', u'sig116a.mat', u'sig117a.mat', u'sig117b.mat', u'sig118a.mat', u'sig118b.mat', u'sig120a.mat', u'sig120b.mat', u'sig120c.mat', u'sig121a.mat', u'sig121b.mat', u'sig123a.mat', u'sig123b.mat', u'sig123c.mat', u'sig124a.mat', u'sig124b.mat']\n",
      "13000\n",
      "13000\n",
      "[u'sig001b.mat', u'sig001c.mat', u'sig003b.mat', u'sig003c.mat', u'sig004a.mat', u'sig004b.mat', u'sig005a.mat', u'sig005b.mat', u'sig005c.mat', u'sig007a.mat', u'sig007b.mat', u'sig007c.mat', u'sig007d.mat', u'sig008c.mat', u'sig009a.mat', u'sig009b.mat', u'sig012b.mat', u'sig014a.mat', u'sig014d.mat', u'sig015a.mat', u'sig015b.mat', u'sig020a.mat', u'sig021a.mat', u'sig027a.mat', u'sig028a.mat', u'sig033a.mat', u'sig033c.mat', u'sig033d.mat', u'sig034c.mat', u'sig034d.mat', u'sig035b.mat', u'sig036d.mat', u'sig037a.mat', u'sig037b.mat', u'sig038b.mat', u'sig038c.mat', u'sig038d.mat', u'sig039b.mat', u'sig040a.mat', u'sig040b.mat', u'sig041b.mat', u'sig041c.mat', u'sig041d.mat', u'sig042b.mat', u'sig043a.mat', u'sig043b.mat', u'sig046c.mat', u'sig047b.mat', u'sig047d.mat', u'sig052a.mat', u'sig054a.mat', u'sig056a.mat', u'sig058a.mat', u'sig060a.mat', u'sig060c.mat', u'sig070b.mat', u'sig071b.mat', u'sig071c.mat', u'sig074a.mat', u'sig074b.mat', u'sig078b.mat', u'sig081b.mat', u'sig081c.mat', u'sig083a.mat', u'sig089a.mat', u'sig090a.mat', u'sig091a.mat', u'sig092b.mat', u'sig094b.mat', u'sig094c.mat', u'sig095a.mat', u'sig096a.mat', u'sig096b.mat', u'sig096c.mat', u'sig097a.mat', u'sig098a.mat', u'sig099a.mat', u'sig099b.mat', u'sig102a.mat', u'sig104b.mat', u'sig105b.mat', u'sig105c.mat', u'sig106a.mat', u'sig107a.mat', u'sig110a.mat', u'sig111a.mat', u'sig111b.mat', u'sig111c.mat', u'sig112a.mat', u'sig113a.mat', u'sig113b.mat', u'sig115a.mat', u'sig115b.mat', u'sig116a.mat', u'sig117a.mat', u'sig117b.mat', u'sig118a.mat', u'sig118b.mat', u'sig120a.mat', u'sig120b.mat', u'sig120c.mat', u'sig121a.mat', u'sig121b.mat', u'sig123a.mat', u'sig123b.mat', u'sig123c.mat', u'sig124a.mat', u'sig124b.mat']\n",
      "11000\n",
      "11000\n",
      "[u'sig001b.mat', u'sig001c.mat', u'sig003b.mat', u'sig003c.mat', u'sig004a.mat', u'sig004b.mat', u'sig005a.mat', u'sig005b.mat', u'sig005c.mat', u'sig007a.mat', u'sig007b.mat', u'sig007c.mat', u'sig007d.mat', u'sig008c.mat', u'sig009a.mat', u'sig009b.mat', u'sig012b.mat', u'sig014a.mat', u'sig014d.mat', u'sig015a.mat', u'sig015b.mat', u'sig020a.mat', u'sig021a.mat', u'sig027a.mat', u'sig028a.mat', u'sig033a.mat', u'sig033c.mat', u'sig033d.mat', u'sig034c.mat', u'sig034d.mat', u'sig035b.mat', u'sig036d.mat', u'sig037a.mat', u'sig037b.mat', u'sig038b.mat', u'sig038c.mat', u'sig038d.mat', u'sig039b.mat', u'sig040a.mat', u'sig040b.mat', u'sig041b.mat', u'sig041c.mat', u'sig041d.mat', u'sig042b.mat', u'sig043a.mat', u'sig043b.mat', u'sig046c.mat', u'sig047b.mat', u'sig047d.mat', u'sig052a.mat', u'sig054a.mat', u'sig056a.mat', u'sig058a.mat', u'sig060a.mat', u'sig060c.mat', u'sig070b.mat', u'sig071b.mat', u'sig071c.mat', u'sig074a.mat', u'sig074b.mat', u'sig078b.mat', u'sig081b.mat', u'sig081c.mat', u'sig083a.mat', u'sig089a.mat', u'sig090a.mat', u'sig091a.mat', u'sig092b.mat', u'sig094b.mat', u'sig094c.mat', u'sig095a.mat', u'sig096a.mat', u'sig096b.mat', u'sig096c.mat', u'sig097a.mat', u'sig098a.mat', u'sig099a.mat', u'sig099b.mat', u'sig102a.mat', u'sig104b.mat', u'sig105b.mat', u'sig105c.mat', u'sig106a.mat', u'sig107a.mat', u'sig110a.mat', u'sig111a.mat', u'sig111b.mat', u'sig111c.mat', u'sig112a.mat', u'sig113a.mat', u'sig113b.mat', u'sig115a.mat', u'sig115b.mat', u'sig116a.mat', u'sig117a.mat', u'sig117b.mat', u'sig118a.mat', u'sig118b.mat', u'sig120a.mat', u'sig120b.mat', u'sig120c.mat', u'sig121a.mat', u'sig121b.mat', u'sig123a.mat', u'sig123b.mat', u'sig123c.mat', u'sig124a.mat', u'sig124b.mat']\n",
      "108000\n",
      "108000\n",
      "['cluster2', 'cluster3', 'cluster1', 'cluster4']\n"
     ]
    }
   ],
   "source": [
    "# get conditions, trials, and clusters\n",
    "conditionData = data['cluster_struct']['push']\n",
    "trials = conditionData.keys()\n",
    "clusters = conditionData[trials[0]].keys()\n",
    "clusters.remove('info')\n",
    "\n",
    "info = conditionData[trials[0]]['info']\n",
    "print info.keys()\n",
    "for cluster in clusters: # loop through each cluster\n",
    "    print conditionData[trials[0]]['info']['neuronsInCluster']\n",
    "#     print conditionData[trials[0]]['info']['neuronsInCluster'].keys()\n",
    "    print np.asarray(conditionData[trials[0]][cluster]).size\n",
    "    print np.asarray(conditionData[trials[3]][cluster]).size\n",
    "print clusters"
   ]
  },
  {
   "cell_type": "code",
   "execution_count": null,
   "metadata": {
    "collapsed": true
   },
   "outputs": [],
   "source": []
  }
 ],
 "metadata": {
  "kernelspec": {
   "display_name": "Python 2",
   "language": "python",
   "name": "python2"
  },
  "language_info": {
   "codemirror_mode": {
    "name": "ipython",
    "version": 2
   },
   "file_extension": ".py",
   "mimetype": "text/x-python",
   "name": "python",
   "nbconvert_exporter": "python",
   "pygments_lexer": "ipython2",
   "version": "2.7.11"
  }
 },
 "nbformat": 4,
 "nbformat_minor": 0
}
